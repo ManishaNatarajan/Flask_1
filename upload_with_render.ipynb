{
 "cells": [
  {
   "cell_type": "code",
   "execution_count": 21,
   "metadata": {},
   "outputs": [],
   "source": [
    "#Upload using HTML templates\n",
    "import os\n",
    "from flask import Flask, render_template, request, flash, url_for\n",
    "app = Flask(__name__)\n",
    "UPLOAD_FOLDER = 'C:\\\\Users\\\\mnatarajan\\\\Desktop\\\\Flask_API'\n",
    "app.config['UPLOAD_FOLDER'] = UPLOAD_FOLDER"
   ]
  },
  {
   "cell_type": "code",
   "execution_count": 22,
   "metadata": {},
   "outputs": [],
   "source": [
    "@app.route('/')\n",
    "def index():\n",
    "    return render_template('upload.html')"
   ]
  },
  {
   "cell_type": "code",
   "execution_count": 23,
   "metadata": {},
   "outputs": [],
   "source": [
    "@app.route('/upload', methods=['POST'])\n",
    "def upload():\n",
    "    target = os.path.join(APP_ROOT, 'images/')\n",
    "    print(target)\n",
    "    \n",
    "    if not os.path.isdir(target):\n",
    "        os.mkdir(target)\n",
    "    else:\n",
    "        print('[ERROR]: Could not create Upload Folder: {}'.format(target))\n",
    "    print(request.files.getlist(\"file\"))\n",
    "    \n",
    "    for upload in request.files.getlist(\"file\"):\n",
    "        print(upload)\n",
    "        print(\"{} is the file name\".format(upload.filename))\n",
    "        filename = upload.filename\n",
    "        # This is to verify files are supported\n",
    "        ext = os.path.splitext(filename)[1]\n",
    "        if (ext == \".jpg\") or (ext == \".png\"):\n",
    "            print(\"File supported moving on...\")\n",
    "        else:\n",
    "            render_template(\"Error.html\", message=\"Files uploaded are not supported...\")\n",
    "        destination = \"/\".join([target, filename])\n",
    "        print(\"Accept incoming file:\", filename)\n",
    "        print(\"Save it to:\", destination)\n",
    "        upload.save(destination)\n",
    "    \n",
    "    return render_template(\"complete.html\", image_name=filename)\n"
   ]
  },
  {
   "cell_type": "code",
   "execution_count": 24,
   "metadata": {},
   "outputs": [],
   "source": [
    "@app.route('/upload/<filename>')\n",
    "def send_image(filename):\n",
    "    return send_from_directory(\"images\", filename)"
   ]
  },
  {
   "cell_type": "code",
   "execution_count": 25,
   "metadata": {},
   "outputs": [],
   "source": [
    "@app.route('/gallery')\n",
    "def get_gallery():\n",
    "    image_names = os.listdir('./images')\n",
    "    print(image_names)\n",
    "    return render_template(\"gallery.html\", image_names=image_names)"
   ]
  },
  {
   "cell_type": "code",
   "execution_count": null,
   "metadata": {},
   "outputs": [],
   "source": []
  }
 ],
 "metadata": {
  "kernelspec": {
   "display_name": "Python 3",
   "language": "python",
   "name": "python3"
  },
  "language_info": {
   "codemirror_mode": {
    "name": "ipython",
    "version": 3
   },
   "file_extension": ".py",
   "mimetype": "text/x-python",
   "name": "python",
   "nbconvert_exporter": "python",
   "pygments_lexer": "ipython3",
   "version": "3.5.5"
  },
  "widgets": {
   "state": {},
   "version": "1.1.2"
  }
 },
 "nbformat": 4,
 "nbformat_minor": 2
}
